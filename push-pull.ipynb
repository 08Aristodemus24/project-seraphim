{
 "cells": [
  {
   "cell_type": "code",
   "execution_count": 2,
   "metadata": {},
   "outputs": [
    {
     "name": "stderr",
     "output_type": "stream",
     "text": [
      "warning: in the working copy of 'init-colab.ipynb', LF will be replaced by CRLF the next time Git touches it\n",
      "warning: in the working copy of 'push-pull.ipynb', LF will be replaced by CRLF the next time Git touches it\n",
      "warning: in the working copy of 'server-side/modelling/data/cal_housing.data', LF will be replaced by CRLF the next time Git touches it\n",
      "warning: in the working copy of 'server-side/modelling/experimentation.ipynb', LF will be replaced by CRLF the next time Git touches it\n"
     ]
    },
    {
     "name": "stdout",
     "output_type": "stream",
     "text": [
      "[master (root-commit) 31b76d9] update\n",
      " 98 files changed, 26423 insertions(+)\n",
      " create mode 100644 .gitignore\n",
      " create mode 100644 init-colab.ipynb\n",
      " create mode 100644 push-pull.ipynb\n",
      " create mode 100644 readme.md\n",
      " create mode 100644 server-side/modelling/__init__.py\n",
      " create mode 100644 server-side/modelling/data/E-commerce.csv\n",
      " create mode 100644 server-side/modelling/data/cal_housing.data\n",
      " create mode 100644 server-side/modelling/data/data.csv\n",
      " create mode 100644 server-side/modelling/data/dummy_word_embeddings.txt\n",
      " create mode 100644 server-side/modelling/data/laptop_price.csv\n",
      " create mode 100644 server-side/modelling/experimentation.ipynb\n",
      " create mode 100644 server-side/modelling/models/__init__.py\n",
      " create mode 100644 server-side/modelling/models/arcs.py\n",
      " create mode 100644 server-side/modelling/models/evaluators.py\n",
      " create mode 100644 server-side/modelling/testing.ipynb\n",
      " create mode 100644 server-side/modelling/training.py\n",
      " create mode 100644 server-side/modelling/utilities/__init__.py\n",
      " create mode 100644 server-side/modelling/utilities/__pycache__/__init__.cpython-310.pyc\n",
      " create mode 100644 server-side/modelling/utilities/__pycache__/__init__.cpython-312.pyc\n",
      " create mode 100644 server-side/modelling/utilities/__pycache__/loaders.cpython-310.pyc\n",
      " create mode 100644 server-side/modelling/utilities/__pycache__/loaders.cpython-312.pyc\n",
      " create mode 100644 server-side/modelling/utilities/__pycache__/preprocessors.cpython-310.pyc\n",
      " create mode 100644 server-side/modelling/utilities/__pycache__/preprocessors.cpython-312.pyc\n",
      " create mode 100644 server-side/modelling/utilities/__pycache__/visualizers.cpython-310.pyc\n",
      " create mode 100644 server-side/modelling/utilities/__pycache__/visualizers.cpython-312.pyc\n",
      " create mode 100644 server-side/modelling/utilities/loaders.py\n",
      " create mode 100644 server-side/modelling/utilities/preprocessors.py\n",
      " create mode 100644 server-side/modelling/utilities/visualizers.py\n",
      " create mode 100644 server-side/requirements.txt\n",
      " create mode 100644 shop-visual-aids/X1 variable vs X2 variable.png\n",
      " create mode 100644 shop-visual-aids/X1 variables vs X2 variables normalized.png\n",
      " create mode 100644 shop-visual-aids/ant 2 at epoch 5.png\n",
      " create mode 100644 shop-visual-aids/app.PNG\n",
      " create mode 100644 shop-visual-aids/baseline breast cancer classifier train and dev results.png\n",
      " create mode 100644 shop-visual-aids/each variables normalized value range.png\n",
      " create mode 100644 shop-visual-aids/each variables normalized value ranges.png\n",
      " create mode 100644 shop-visual-aids/enter task.PNG\n",
      " create mode 100644 shop-visual-aids/frequency of unique relations.png\n",
      " create mode 100644 shop-visual-aids/items rated by unique users.png\n",
      " create mode 100644 shop-visual-aids/label frequency.png\n",
      " create mode 100644 shop-visual-aids/lstm classifier classified vs misclassified labels.png\n",
      " create mode 100644 shop-visual-aids/lstm classifier metric values.png\n",
      " create mode 100644 shop-visual-aids/lstm classifier testing set confusion matrix.png\n",
      " create mode 100644 shop-visual-aids/lstm classifier training set confusion matrix.png\n",
      " create mode 100644 shop-visual-aids/lstm classifier validation set confusion matrix.png\n",
      " create mode 100644 shop-visual-aids/lstm results.png\n",
      " create mode 100644 shop-visual-aids/mean_squared_error per epoch for training and cross validation data splits.png\n",
      " create mode 100644 shop-visual-aids/old and newly engineered variables normalized value ranges.png\n",
      " create mode 100644 shop-visual-aids/percentages of top 20 frequent derogatory words.png\n",
      " create mode 100644 shop-visual-aids/percentages of top 20 frequent homonymous words.png\n",
      " create mode 100644 shop-visual-aids/percentages of top 20 frequent non-derogatory words.png\n",
      " create mode 100644 shop-visual-aids/percentages of top 20 frequent offensive words.png\n",
      " create mode 100644 shop-visual-aids/rating count of unique items by users.png\n",
      " create mode 100644 shop-visual-aids/regression DFM (deep factorization machine) loss performance on juris-300k.png\n",
      " create mode 100644 shop-visual-aids/regression DFM (deep factorization machine) loss performance on juris-3m.png\n",
      " create mode 100644 shop-visual-aids/regression DFM (deep factorization machine) loss performance on juris-600k.png\n",
      " create mode 100644 shop-visual-aids/regression DFM (deep factorization machine) loss performance on ml-1m.png\n",
      " create mode 100644 shop-visual-aids/regression DFM (deep factorization machine) mean_squared_error performance on juris-300k.png\n",
      " create mode 100644 shop-visual-aids/regression DFM (deep factorization machine) mean_squared_error performance on juris-3m.png\n",
      " create mode 100644 shop-visual-aids/regression DFM (deep factorization machine) mean_squared_error performance on juris-600k.png\n",
      " create mode 100644 shop-visual-aids/regression DFM (deep factorization machine) mean_squared_error performance on ml-1m.png\n",
      " create mode 100644 shop-visual-aids/regression DFM (deep factorization machine) root_mean_squared_error performance on juris-300k.png\n",
      " create mode 100644 shop-visual-aids/regression DFM (deep factorization machine) root_mean_squared_error performance on juris-3m.png\n",
      " create mode 100644 shop-visual-aids/regression DFM (deep factorization machine) root_mean_squared_error performance on juris-600k.png\n",
      " create mode 100644 shop-visual-aids/regression DFM (deep factorization machine) root_mean_squared_error performance on ml-1m.png\n",
      " create mode 100644 shop-visual-aids/regression FM (factorization machine) loss performance on juris-300k.png\n",
      " create mode 100644 shop-visual-aids/regression FM (factorization machine) loss performance on juris-3m.png\n",
      " create mode 100644 shop-visual-aids/regression FM (factorization machine) loss performance on juris-600k.png\n",
      " create mode 100644 shop-visual-aids/regression FM (factorization machine) loss performance on ml-1m.png\n",
      " create mode 100644 shop-visual-aids/regression FM (factorization machine) mean_squared_error performance on juris-300k.png\n",
      " create mode 100644 shop-visual-aids/regression FM (factorization machine) mean_squared_error performance on juris-3m.png\n",
      " create mode 100644 shop-visual-aids/regression FM (factorization machine) mean_squared_error performance on juris-600k.png\n",
      " create mode 100644 shop-visual-aids/regression FM (factorization machine) mean_squared_error performance on ml-1m.png\n",
      " create mode 100644 shop-visual-aids/regression FM (factorization machine) root_mean_squared_error performance on juris-300k.png\n",
      " create mode 100644 shop-visual-aids/regression FM (factorization machine) root_mean_squared_error performance on juris-3m.png\n",
      " create mode 100644 shop-visual-aids/regression FM (factorization machine) root_mean_squared_error performance on juris-600k.png\n",
      " create mode 100644 shop-visual-aids/regression FM (factorization machine) root_mean_squared_error performance on ml-1m.png\n",
      " create mode 100644 shop-visual-aids/root_mean_squared_error per epoch for training and cross validation data splits.png\n",
      " create mode 100644 shop-visual-aids/schedule.PNG\n",
      " create mode 100644 shop-visual-aids/softmax classifier classified vs misclassified labels.png\n",
      " create mode 100644 shop-visual-aids/softmax classifier metric values.png\n",
      " create mode 100644 shop-visual-aids/softmax classifier testing set confusion matrix.png\n",
      " create mode 100644 shop-visual-aids/softmax classifier training set confusion matrix.png\n",
      " create mode 100644 shop-visual-aids/softmax classifier validation set confusion matrix.png\n",
      " create mode 100644 shop-visual-aids/softmax regression classifier results.png\n",
      " create mode 100644 shop-visual-aids/t-SNE first 500 word embeddings.png\n",
      " create mode 100644 shop-visual-aids/top 20 derogatory words frequencies.png\n",
      " create mode 100644 shop-visual-aids/top 20 homonymous words frequencies.png\n",
      " create mode 100644 shop-visual-aids/top 20 non-derogatory words frequencies.png\n",
      " create mode 100644 shop-visual-aids/top 20 offensive words frequencies.png\n",
      " create mode 100644 shop-visual-aids/total items matching head entities in KG and their frequencies.png\n",
      " create mode 100644 shop-visual-aids/total items matching tail entities in KG and their frequencies.png\n",
      " create mode 100644 shop-visual-aids/total users matching head entities in KG and their frequencies.png\n",
      " create mode 100644 shop-visual-aids/total users matching tail entities in KG and their frequencies.png\n",
      " create mode 100644 shop-visual-aids/train loss of collaborative filtering SVD across epochs.png\n",
      " create mode 100644 shop-visual-aids/web app 1.png\n",
      " create mode 100644 shop-visual-aids/web app 2.png\n",
      " create mode 100644 shop-visual-aids/web app 3.png\n"
     ]
    },
    {
     "name": "stderr",
     "output_type": "stream",
     "text": [
      "To https://github.com/08Aristodemus24/project-seraphim.git\n",
      " * [new branch]      master -> master\n"
     ]
    }
   ],
   "source": [
    "!git add .\n",
    "!git commit -m \"update\"\n",
    "!git push origin master"
   ]
  },
  {
   "cell_type": "code",
   "execution_count": null,
   "metadata": {},
   "outputs": [],
   "source": [
    "!git pull origin master"
   ]
  }
 ],
 "metadata": {
  "kernelspec": {
   "display_name": "project-seraphim",
   "language": "python",
   "name": "python3"
  },
  "language_info": {
   "codemirror_mode": {
    "name": "ipython",
    "version": 3
   },
   "file_extension": ".py",
   "mimetype": "text/x-python",
   "name": "python",
   "nbconvert_exporter": "python",
   "pygments_lexer": "ipython3",
   "version": "3.12.0"
  }
 },
 "nbformat": 4,
 "nbformat_minor": 2
}
