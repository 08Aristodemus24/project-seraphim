{
 "cells": [
  {
   "cell_type": "code",
   "execution_count": 5,
   "metadata": {},
   "outputs": [
    {
     "name": "stdout",
     "output_type": "stream",
     "text": [
      "[WinError 3] The system cannot find the path specified: '/content/drive/MyDrive/Colab\\\\ Notebooks/project-seraphim/'\n",
      "d:\\Projects\\To Github\\project-seraphim\n"
     ]
    }
   ],
   "source": [
    "# navigate to root directory where .git exists\n",
    "%cd /content/drive/MyDrive/Colab\\ Notebooks/project-seraphim/"
   ]
  },
  {
   "cell_type": "code",
   "execution_count": 6,
   "metadata": {},
   "outputs": [],
   "source": [
    "# configure user name and email in repository\n",
    "!git config user.name 08Aristodemus24\n",
    "!git config user.email MichaelAveuc571@gmail.com"
   ]
  },
  {
   "cell_type": "code",
   "execution_count": 7,
   "metadata": {},
   "outputs": [
    {
     "name": "stdout",
     "output_type": "stream",
     "text": [
      "diff.astextplain.textconv=astextplain\n",
      "filter.lfs.clean=git-lfs clean -- %f\n",
      "filter.lfs.smudge=git-lfs smudge -- %f\n",
      "filter.lfs.process=git-lfs filter-process\n",
      "filter.lfs.required=true\n",
      "http.sslbackend=openssl\n",
      "http.sslcainfo=C:/Program Files/Git/mingw64/ssl/certs/ca-bundle.crt\n",
      "core.autocrlf=true\n",
      "core.fscache=true\n",
      "core.symlinks=false\n",
      "pull.rebase=false\n",
      "credential.helper=manager-core\n",
      "credential.https://dev.azure.com.usehttppath=true\n",
      "init.defaultbranch=master\n",
      "core.editor=\"C:\\Users\\Mig\\AppData\\Local\\Microsoft VS Code\\Microsoft VS Code\\bin\\code\" --wait\n",
      "user.username=08Miguel24\n",
      "user.email=MichaelAveuc571@gmail.com\n",
      "user.name=08Miguel24\n",
      "credential.https://git.codeaid.io.provider=generic\n",
      "core.repositoryformatversion=0\n",
      "core.filemode=false\n",
      "core.bare=false\n",
      "core.logallrefupdates=true\n",
      "core.symlinks=false\n",
      "core.ignorecase=true\n",
      "remote.origin.url=https://github.com/08Aristodemus24/project-seraphim.git\n",
      "remote.origin.fetch=+refs/heads/*:refs/remotes/origin/*\n",
      "user.name=08Aristodemus24\n",
      "user.email=MichaelAveuc571@gmail.com\n"
     ]
    }
   ],
   "source": [
    "# check if remote origin url is set\n",
    "!git config --list"
   ]
  },
  {
   "cell_type": "markdown",
   "metadata": {},
   "source": [
    "**Create a github personal access token (classic) and in the scopes select the ff:**\n",
    "* workflowUpdate GitHub Action workflows\n",
    "* write:packagesUpload packages to GitHub Package Registry\n",
    "* read:packagesDownload packages from GitHub Package Registry\n",
    "delete:packagesDelete packages from GitHub Package Registry"
   ]
  },
  {
   "cell_type": "code",
   "execution_count": 8,
   "metadata": {},
   "outputs": [],
   "source": [
    "from pathlib import Path\n",
    "from dotenv import load_dotenv\n",
    "import os\n",
    "\n",
    "env_dir = Path('./').resolve()\n",
    "load_dotenv(os.path.join(env_dir, '.env'))\n",
    "\n",
    "gpat = os.environ['GITHUB_PERSONAL_ACCESS_TOKEN']\n",
    "\n",
    "!git remote set-url origin https://{gpat}@github.com/08Aristodemus24/project-seraphim.git"
   ]
  },
  {
   "cell_type": "code",
   "execution_count": 9,
   "metadata": {},
   "outputs": [
    {
     "name": "stderr",
     "output_type": "stream",
     "text": [
      "warning: in the working copy of 'push-pull.ipynb', LF will be replaced by CRLF the next time Git touches it\n"
     ]
    },
    {
     "name": "stdout",
     "output_type": "stream",
     "text": [
      "[master 9e9046b] update\n",
      " 1 file changed, 105 insertions(+), 6 deletions(-)\n"
     ]
    },
    {
     "name": "stderr",
     "output_type": "stream",
     "text": [
      "To https://github.com/08Aristodemus24/project-seraphim.git\n",
      "   31b76d9..9e9046b  master -> master\n"
     ]
    }
   ],
   "source": [
    "!git add .\n",
    "!git commit -m \"update\"\n",
    "!git push origin master"
   ]
  },
  {
   "cell_type": "code",
   "execution_count": null,
   "metadata": {},
   "outputs": [],
   "source": [
    "!git pull origin master"
   ]
  }
 ],
 "metadata": {
  "kernelspec": {
   "display_name": "project-seraphim",
   "language": "python",
   "name": "python3"
  },
  "language_info": {
   "codemirror_mode": {
    "name": "ipython",
    "version": 3
   },
   "file_extension": ".py",
   "mimetype": "text/x-python",
   "name": "python",
   "nbconvert_exporter": "python",
   "pygments_lexer": "ipython3",
   "version": "3.12.0"
  }
 },
 "nbformat": 4,
 "nbformat_minor": 2
}
